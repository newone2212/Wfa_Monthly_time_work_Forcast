{
 "cells": [
  {
   "cell_type": "code",
   "execution_count": 3,
   "metadata": {},
   "outputs": [
    {
     "name": "stdout",
     "output_type": "stream",
     "text": [
      "Formatted current date: 2024-03\n"
     ]
    }
   ],
   "source": [
    "import datetime\n",
    "\n",
    "current_date = datetime.date.today()\n",
    "formatted_date = current_date.strftime(\"%Y-%m\")  # Format example: YYYY-MM-DD\n",
    "\n"
   ]
  },
  {
   "cell_type": "code",
   "execution_count": 6,
   "metadata": {},
   "outputs": [
    {
     "name": "stdout",
     "output_type": "stream",
     "text": [
      "['2024-03', '2024-04', '2024-05', '2024-06', '2024-07', '2024-08', '2024-09', '2024-10', '2024-11', '2024-12', '2025-01', '2025-02', '2025-03', '2025-04', '2025-05', '2025-06', '2025-07', '2025-08', '2025-09', '2025-10', '2025-11', '2025-12', '2026-01', '2026-02']\n"
     ]
    }
   ],
   "source": [
    "import datetime\n",
    "\n",
    "def generate_future_dates(start_date, future_steps, gap_days):\n",
    "    dates = []\n",
    "    current_date = datetime.datetime.strptime(start_date, \"%Y-%m\") + datetime.timedelta(days=gap_days)\n",
    "    \n",
    "    for _ in range(future_steps):\n",
    "        dates.append(current_date.strftime(\"%Y-%m\"))\n",
    "        current_date += datetime.timedelta(days=gap_days)\n",
    "        \n",
    "    return dates\n",
    "\n",
    "start_date = \"2024-03\"\n",
    "future_steps = 24\n",
    "gap_days = 30\n",
    "\n",
    "future_dates = generate_future_dates(start_date, future_steps, gap_days)\n",
    "print(future_dates)\n"
   ]
  },
  {
   "cell_type": "code",
   "execution_count": 2,
   "metadata": {},
   "outputs": [
    {
     "name": "stdout",
     "output_type": "stream",
     "text": [
      "24\n",
      "24\n"
     ]
    },
    {
     "data": {
      "text/html": [
       "<div>\n",
       "<style scoped>\n",
       "    .dataframe tbody tr th:only-of-type {\n",
       "        vertical-align: middle;\n",
       "    }\n",
       "\n",
       "    .dataframe tbody tr th {\n",
       "        vertical-align: top;\n",
       "    }\n",
       "\n",
       "    .dataframe thead th {\n",
       "        text-align: right;\n",
       "    }\n",
       "</style>\n",
       "<table border=\"1\" class=\"dataframe\">\n",
       "  <thead>\n",
       "    <tr style=\"text-align: right;\">\n",
       "      <th></th>\n",
       "      <th>forecast_date</th>\n",
       "      <th>forecast_amount</th>\n",
       "    </tr>\n",
       "  </thead>\n",
       "  <tbody>\n",
       "    <tr>\n",
       "      <th>0</th>\n",
       "      <td>2023-12</td>\n",
       "      <td>3.675886e+06</td>\n",
       "    </tr>\n",
       "    <tr>\n",
       "      <th>1</th>\n",
       "      <td>2023-12</td>\n",
       "      <td>-1.445463e+06</td>\n",
       "    </tr>\n",
       "    <tr>\n",
       "      <th>2</th>\n",
       "      <td>2024-01</td>\n",
       "      <td>-2.615988e+06</td>\n",
       "    </tr>\n",
       "    <tr>\n",
       "      <th>3</th>\n",
       "      <td>2024-02</td>\n",
       "      <td>-2.883521e+06</td>\n",
       "    </tr>\n",
       "    <tr>\n",
       "      <th>4</th>\n",
       "      <td>2024-03</td>\n",
       "      <td>-2.944668e+06</td>\n",
       "    </tr>\n",
       "  </tbody>\n",
       "</table>\n",
       "</div>"
      ],
      "text/plain": [
       "  forecast_date  forecast_amount\n",
       "0       2023-12     3.675886e+06\n",
       "1       2023-12    -1.445463e+06\n",
       "2       2024-01    -2.615988e+06\n",
       "3       2024-02    -2.883521e+06\n",
       "4       2024-03    -2.944668e+06"
      ]
     },
     "execution_count": 2,
     "metadata": {},
     "output_type": "execute_result"
    }
   ],
   "source": [
    "import pandas as pd\n",
    "a=['2023-12', '2023-12', '2024-01', '2024-02', '2024-03', '2024-04', '2024-05', '2024-06', '2024-07', '2024-08', '2024-09', '2024-10', '2024-11', '2024-12', '2025-01', '2025-02', '2025-03', '2025-04', '2025-05', '2025-06', '2025-07', '2025-08', '2025-09', '2025-10']\n",
    "b=[3675885.513053331, -1445463.0478168973, -2615988.1583947325, -2883521.0197511637, -2944667.791621975, -2958643.374626112, -2961837.6057249866, -2962567.672750455, -2962734.5353991417, -2962772.673189996, -2962781.3898866484, -2962783.3821572764, -2962783.837506638, -2962783.9415803705, -2962783.9653672534, -2962783.9708039355, -2962783.9720465327, -2962783.972330538, -2962783.97239545, -2962783.972410286, -2962783.972413677, -2962783.9724144517, -2962783.9724146286, -2962783.972414669]\n",
    "print(len(a))\n",
    "print(len(b))\n",
    "df = pd.DataFrame({'forecast_date': a, 'forecast_amount': b})\n",
    "df.head(5)\n"
   ]
  },
  {
   "cell_type": "code",
   "execution_count": null,
   "metadata": {},
   "outputs": [],
   "source": []
  }
 ],
 "metadata": {
  "kernelspec": {
   "display_name": "Python 3",
   "language": "python",
   "name": "python3"
  },
  "language_info": {
   "codemirror_mode": {
    "name": "ipython",
    "version": 3
   },
   "file_extension": ".py",
   "mimetype": "text/x-python",
   "name": "python",
   "nbconvert_exporter": "python",
   "pygments_lexer": "ipython3",
   "version": "3.10.0rc2"
  }
 },
 "nbformat": 4,
 "nbformat_minor": 2
}
